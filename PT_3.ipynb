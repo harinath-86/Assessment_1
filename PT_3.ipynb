{
  "nbformat": 4,
  "nbformat_minor": 0,
  "metadata": {
    "colab": {
      "provenance": []
    },
    "kernelspec": {
      "name": "python3",
      "display_name": "Python 3"
    },
    "language_info": {
      "name": "python"
    }
  },
  "cells": [
    {
      "cell_type": "markdown",
      "source": [
        "*** USE THE CONCEPT OF FUNCTIONS TO SOLVE THE BELOW PROGRAMMING QUESTIONS ***"
      ],
      "metadata": {
        "id": "Rg2ZBqGAQwAf"
      }
    },
    {
      "cell_type": "markdown",
      "source": [
        "1) Write a Python function to sum all the numbers in a list.\n",
        "\n",
        "Sample List : (8, 2, 3, 0, 7)\n",
        "\n",
        "Expected Output : 20\n"
      ],
      "metadata": {
        "id": "ScHTvbE1QwCo"
      }
    },
    {
      "cell_type": "code",
      "source": [
        "def sum_numbers(lst):\n",
        "    total = 0\n",
        "    for num in lst:\n",
        "        total += num\n",
        "    return total\n",
        "numbers = [8, 2, 3, 0, 7]\n",
        "print(sum_numbers(numbers))\n"
      ],
      "metadata": {
        "id": "aR_k4uReQ8Og",
        "colab": {
          "base_uri": "https://localhost:8080/"
        },
        "outputId": "0628f652-70b1-45b8-9c1e-f6ea3b64fc67"
      },
      "execution_count": 1,
      "outputs": [
        {
          "output_type": "stream",
          "name": "stdout",
          "text": [
            "20\n"
          ]
        }
      ]
    },
    {
      "cell_type": "markdown",
      "source": [
        "2) Write a Python function to multiply all the numbers in a list.\n",
        "\n",
        "Sample List : (8, 2, 3, -1, 7)\n",
        "\n",
        "Expected Output : -336"
      ],
      "metadata": {
        "id": "dZtcDLjAQwE-"
      }
    },
    {
      "cell_type": "code",
      "source": [
        "def multiply_numbers(lst):\n",
        "    result = 1\n",
        "    for num in lst:\n",
        "        result *= num\n",
        "    return result\n",
        "\n",
        "# Sample list\n",
        "numbers = [8, 2, 3, -1, 7]\n",
        "print(multiply_numbers(numbers))"
      ],
      "metadata": {
        "id": "98uwoSPnRHyL",
        "colab": {
          "base_uri": "https://localhost:8080/"
        },
        "outputId": "f9d7728f-ae74-435e-aabb-f36fc26859fb"
      },
      "execution_count": 2,
      "outputs": [
        {
          "output_type": "stream",
          "name": "stdout",
          "text": [
            "-336\n"
          ]
        }
      ]
    },
    {
      "cell_type": "markdown",
      "source": [
        "3) Write a Python program to reverse a string.\n",
        "\n",
        "Sample String : \"1234abcd\"\n",
        "\n",
        "Expected Output : \"dcba4321\""
      ],
      "metadata": {
        "id": "99G7rde1QwHN"
      }
    },
    {
      "cell_type": "code",
      "source": [
        "s = \"1234abcd\"\n",
        "reversed_s = \"\"\n",
        "for char in s:\n",
        "    reversed_s = char + reversed_s\n",
        "print(reversed_s)"
      ],
      "metadata": {
        "id": "6qmLELFCRQAD",
        "colab": {
          "base_uri": "https://localhost:8080/"
        },
        "outputId": "b7458c21-5f7f-4b15-cdbc-a7754e91b105"
      },
      "execution_count": 3,
      "outputs": [
        {
          "output_type": "stream",
          "name": "stdout",
          "text": [
            "dcba4321\n"
          ]
        }
      ]
    },
    {
      "cell_type": "markdown",
      "source": [
        "4) Write a Python function to calculate the factorial of a number (a non-negative integer). The function accepts the number as an argument."
      ],
      "metadata": {
        "id": "_XE8as7eQwJn"
      }
    },
    {
      "cell_type": "code",
      "source": [
        "def factorial(n):\n",
        "    result = 1\n",
        "    for i in range(1, n + 1):\n",
        "        result *= i\n",
        "    return result\n",
        "num = 5\n",
        "print(\"Factorial:\", factorial(num))"
      ],
      "metadata": {
        "id": "Di5n5kNARZdn",
        "colab": {
          "base_uri": "https://localhost:8080/"
        },
        "outputId": "71c6332c-645e-4b2e-8891-d5d364223f86"
      },
      "execution_count": 4,
      "outputs": [
        {
          "output_type": "stream",
          "name": "stdout",
          "text": [
            "Factorial: 120\n"
          ]
        }
      ]
    },
    {
      "cell_type": "markdown",
      "source": [
        "5) Write a Python function to check whether a number falls within a given range."
      ],
      "metadata": {
        "id": "I2zyMS7XQwLx"
      }
    },
    {
      "cell_type": "code",
      "source": [
        "def is_within_range(num, start, end):\n",
        "    return start <= num <= end\n",
        "num = 10\n",
        "start = 5\n",
        "end = 20\n",
        "print(is_within_range(num, start, end))"
      ],
      "metadata": {
        "id": "rouydHDQRgcc",
        "colab": {
          "base_uri": "https://localhost:8080/"
        },
        "outputId": "1a84a427-689c-431b-fe4e-c8014f8bc52c"
      },
      "execution_count": 5,
      "outputs": [
        {
          "output_type": "stream",
          "name": "stdout",
          "text": [
            "True\n"
          ]
        }
      ]
    }
  ]
}